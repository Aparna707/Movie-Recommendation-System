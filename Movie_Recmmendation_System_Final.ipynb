{
 "cells": [
  {
   "cell_type": "markdown",
   "metadata": {},
   "source": [
    "# MOVIE  RECOMMENDATION  SYSTEM\n",
    "\n"
   ]
  },
  {
   "cell_type": "code",
   "execution_count": 2,
   "metadata": {},
   "outputs": [],
   "source": [
    "import pandas as pd\n",
    "import  numpy as np\n",
    "from sklearn.feature_extraction.text import CountVectorizer\n",
    "from sklearn.metrics.pairwise import cosine_similarity\n",
    "##Step1 : Read CSV File\n",
    "df=pd.read_csv(\"C:\\\\Users\\\\Ritik Kumar\\\\Desktop\\\\PythonIBM\\\\Movie recommendation System\\\\ML Projects\\\\movie_dataset.csv\",low_memory=False)\n",
    "\n"
   ]
  },
  {
   "cell_type": "code",
   "execution_count": 3,
   "metadata": {},
   "outputs": [],
   "source": [
    "##Step2 : Select Features which behaves like our content which can be matched with other films to get similarity\n",
    "features=['keywords','cast','genres','director']"
   ]
  },
  {
   "cell_type": "code",
   "execution_count": 4,
   "metadata": {},
   "outputs": [],
   "source": [
    "##Step3 :Create a function for combining the values of these columns into a single string\n",
    "def combine_features(row):\n",
    "    return row['keywords']+\" \"+\" \"+row['cast']+\" \"+row['genres']+\" \"+row['director']"
   ]
  },
  {
   "cell_type": "code",
   "execution_count": 5,
   "metadata": {},
   "outputs": [],
   "source": [
    "##Step4 :Fill all the NaN values with blank string in dataframe\n",
    "for feature in features:\n",
    "    df[feature]=df[feature].fillna('')\n"
   ]
  },
  {
   "cell_type": "code",
   "execution_count": 6,
   "metadata": {},
   "outputs": [],
   "source": [
    "##Step5 :Apply  combined_features() method over each rows of a dataframe and storing\n",
    "## the combined string in \"combined_features\" column\n",
    "df[\"combine_features\"]=df.apply(combine_features,axis=1)"
   ]
  },
  {
   "cell_type": "code",
   "execution_count": 7,
   "metadata": {},
   "outputs": [],
   "source": [
    "##Step6 :Feed the strings to CountVectorizer() object for getting the count_matrix\n",
    "cv=CountVectorizer()\n",
    "count_matrix=cv.fit_transform(df[\"combine_features\"])"
   ]
  },
  {
   "cell_type": "code",
   "execution_count": 8,
   "metadata": {},
   "outputs": [],
   "source": [
    "##Step7 :Compute the Cosine Similarity based on the  count_matrix\n",
    "cosine_sim=cosine_similarity(count_matrix)"
   ]
  },
  {
   "cell_type": "code",
   "execution_count": 9,
   "metadata": {},
   "outputs": [],
   "source": [
    "##Step8 :Define helper functions to get movie title from movie index and vice-versa\n",
    "def get_title_from_index(index):\n",
    "    return df[df.index==index][\"title\"].values[0]\n"
   ]
  },
  {
   "cell_type": "code",
   "execution_count": 10,
   "metadata": {},
   "outputs": [],
   "source": [
    "def get_index_from_title(title):\n",
    "    return df[df.title==title][\"index\"].values[0]\n"
   ]
  },
  {
   "cell_type": "code",
   "execution_count": 11,
   "metadata": {},
   "outputs": [],
   "source": [
    "##Step9 : Movie that users like currently\n",
    "movie_users_likes=\"Pirates of the Caribbean: At World's End\""
   ]
  },
  {
   "cell_type": "code",
   "execution_count": 12,
   "metadata": {},
   "outputs": [],
   "source": [
    "##Step6 :Get index of this movie from its title\n",
    "movie_index=get_index_from_title(movie_users_likes)\n",
    "#print(movie_index)\n",
    "#type(movie_index)\n",
    "#print(int(movie_index))"
   ]
  },
  {
   "cell_type": "code",
   "execution_count": 13,
   "metadata": {},
   "outputs": [],
   "source": [
    "similar_movies=list(enumerate(cosine_sim[int(movie_index)]))"
   ]
  },
  {
   "cell_type": "code",
   "execution_count": 14,
   "metadata": {},
   "outputs": [],
   "source": [
    "##Step7 :Get a list of similar movies in descending order of similarity scores\n",
    "sorted_similar_movies=sorted(similar_movies,key=lambda x:x[1],reverse=True)"
   ]
  },
  {
   "cell_type": "code",
   "execution_count": 16,
   "metadata": {},
   "outputs": [
    {
     "name": "stdout",
     "output_type": "stream",
     "text": [
      "!!!!!!!!!!!Top 5 similar movies to Pirates of the Caribbean: At World's End are : \n",
      " \n",
      "  Pirates of the Caribbean: At World's End\n",
      "  Pirates of the Caribbean: The Curse of the Black Pearl\n",
      "  Pirates of the Caribbean: Dead Man's Chest\n",
      "  Spider-Man 3\n",
      "  Hancock\n",
      "  Spider-Man 2\n"
     ]
    }
   ],
   "source": [
    "##Step8 :Print title of first 50 movies\n",
    "i=0\n",
    "print(\"!!!!!!!!!!!Top 5 similar movies to \" + movie_users_likes+ \" are : \\n \")\n",
    "for element in sorted_similar_movies:\n",
    "    print(\"  \"+get_title_from_index(element[0]))\n",
    "    i=i+1\n",
    "    if(i>5):\n",
    "          break\n"
   ]
  },
  {
   "cell_type": "code",
   "execution_count": null,
   "metadata": {},
   "outputs": [],
   "source": []
  }
 ],
 "metadata": {
  "kernelspec": {
   "display_name": "Python 3",
   "language": "python",
   "name": "python3"
  },
  "language_info": {
   "codemirror_mode": {
    "name": "ipython",
    "version": 3
   },
   "file_extension": ".py",
   "mimetype": "text/x-python",
   "name": "python",
   "nbconvert_exporter": "python",
   "pygments_lexer": "ipython3",
   "version": "3.7.3"
  }
 },
 "nbformat": 4,
 "nbformat_minor": 2
}
